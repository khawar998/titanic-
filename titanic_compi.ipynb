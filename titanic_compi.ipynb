{
 "cells": [
  {
   "cell_type": "markdown",
   "metadata": {},
   "source": [
    "# `titanic kaggle competition note book `\n",
    "\n",
    "## author `Muhammad Khawar Haseem Satti`\n",
    "\n",
    "### link [linkedin's](www.linkedin.com/in/khawar-haseem-087631290)\n"
   ]
  },
  {
   "cell_type": "code",
   "execution_count": 42,
   "metadata": {},
   "outputs": [],
   "source": [
    "import pandas as pd\n",
    "import numpy as np\n",
    "import matplotlib.pyplot as plt\n",
    "import seaborn as sns\n",
    "import plotly.express as px"
   ]
  },
  {
   "cell_type": "code",
   "execution_count": 43,
   "metadata": {},
   "outputs": [],
   "source": [
    "df_train = pd.read_csv('./data/train.csv')\n",
    "df_test = pd.read_csv('./data/test.csv')"
   ]
  },
  {
   "cell_type": "code",
   "execution_count": 44,
   "metadata": {},
   "outputs": [
    {
     "data": {
      "text/plain": [
       "PassengerId      0\n",
       "Survived         0\n",
       "Pclass           0\n",
       "Name             0\n",
       "Sex              0\n",
       "Age            177\n",
       "SibSp            0\n",
       "Parch            0\n",
       "Ticket           0\n",
       "Fare             0\n",
       "Cabin          687\n",
       "Embarked         2\n",
       "dtype: int64"
      ]
     },
     "execution_count": 44,
     "metadata": {},
     "output_type": "execute_result"
    }
   ],
   "source": [
    "df_train.isnull().sum()"
   ]
  },
  {
   "cell_type": "code",
   "execution_count": 45,
   "metadata": {},
   "outputs": [],
   "source": [
    "df_train.drop('Cabin', axis=1, inplace=True)"
   ]
  },
  {
   "cell_type": "code",
   "execution_count": 46,
   "metadata": {},
   "outputs": [],
   "source": [
    "# import iterative imputer\n",
    "from sklearn.experimental import enable_iterative_imputer\n",
    "from sklearn.impute import IterativeImputer\n",
    "it = IterativeImputer()\n",
    "it.fit(df_train[['Age']])\n",
    "df_train['Age'] = it.transform(df_train[['Age']])"
   ]
  },
  {
   "cell_type": "code",
   "execution_count": 47,
   "metadata": {},
   "outputs": [
    {
     "data": {
      "text/plain": [
       "PassengerId    0\n",
       "Survived       0\n",
       "Pclass         0\n",
       "Name           0\n",
       "Sex            0\n",
       "Age            0\n",
       "SibSp          0\n",
       "Parch          0\n",
       "Ticket         0\n",
       "Fare           0\n",
       "Embarked       2\n",
       "dtype: int64"
      ]
     },
     "execution_count": 47,
     "metadata": {},
     "output_type": "execute_result"
    }
   ],
   "source": [
    "df_train.isnull().sum()"
   ]
  },
  {
   "cell_type": "code",
   "execution_count": 48,
   "metadata": {},
   "outputs": [
    {
     "name": "stdout",
     "output_type": "stream",
     "text": [
      "<class 'pandas.core.frame.DataFrame'>\n",
      "RangeIndex: 891 entries, 0 to 890\n",
      "Data columns (total 11 columns):\n",
      " #   Column       Non-Null Count  Dtype  \n",
      "---  ------       --------------  -----  \n",
      " 0   PassengerId  891 non-null    int64  \n",
      " 1   Survived     891 non-null    int64  \n",
      " 2   Pclass       891 non-null    int64  \n",
      " 3   Name         891 non-null    object \n",
      " 4   Sex          891 non-null    object \n",
      " 5   Age          891 non-null    float64\n",
      " 6   SibSp        891 non-null    int64  \n",
      " 7   Parch        891 non-null    int64  \n",
      " 8   Ticket       891 non-null    object \n",
      " 9   Fare         891 non-null    float64\n",
      " 10  Embarked     889 non-null    object \n",
      "dtypes: float64(2), int64(5), object(4)\n",
      "memory usage: 76.7+ KB\n"
     ]
    }
   ],
   "source": [
    "df_train.info()"
   ]
  },
  {
   "cell_type": "code",
   "execution_count": 49,
   "metadata": {},
   "outputs": [],
   "source": [
    "from sklearn.impute import SimpleImputer\n",
    "simple = SimpleImputer(strategy='most_frequent')\n",
    "df_train['Embarked'] = simple.fit_transform(df_train[['Embarked']]).squeeze()"
   ]
  },
  {
   "cell_type": "code",
   "execution_count": 50,
   "metadata": {},
   "outputs": [
    {
     "data": {
      "text/plain": [
       "PassengerId    0\n",
       "Survived       0\n",
       "Pclass         0\n",
       "Name           0\n",
       "Sex            0\n",
       "Age            0\n",
       "SibSp          0\n",
       "Parch          0\n",
       "Ticket         0\n",
       "Fare           0\n",
       "Embarked       0\n",
       "dtype: int64"
      ]
     },
     "execution_count": 50,
     "metadata": {},
     "output_type": "execute_result"
    }
   ],
   "source": [
    "df_train.isnull().sum()"
   ]
  },
  {
   "cell_type": "code",
   "execution_count": 51,
   "metadata": {},
   "outputs": [],
   "source": [
    "# import label encoder from sklearn\n",
    "from sklearn.preprocessing import LabelEncoder\n",
    "le = LabelEncoder()\n",
    "for i in df_train.columns:\n",
    "    if df_train[i].dtypes == 'object':\n",
    "        df_train[i] = le.fit_transform(df_train[i])\n",
    "    else:\n",
    "        pass"
   ]
  },
  {
   "cell_type": "code",
   "execution_count": 52,
   "metadata": {},
   "outputs": [
    {
     "data": {
      "text/html": [
       "<div>\n",
       "<style scoped>\n",
       "    .dataframe tbody tr th:only-of-type {\n",
       "        vertical-align: middle;\n",
       "    }\n",
       "\n",
       "    .dataframe tbody tr th {\n",
       "        vertical-align: top;\n",
       "    }\n",
       "\n",
       "    .dataframe thead th {\n",
       "        text-align: right;\n",
       "    }\n",
       "</style>\n",
       "<table border=\"1\" class=\"dataframe\">\n",
       "  <thead>\n",
       "    <tr style=\"text-align: right;\">\n",
       "      <th></th>\n",
       "      <th>PassengerId</th>\n",
       "      <th>Survived</th>\n",
       "      <th>Pclass</th>\n",
       "      <th>Name</th>\n",
       "      <th>Sex</th>\n",
       "      <th>Age</th>\n",
       "      <th>SibSp</th>\n",
       "      <th>Parch</th>\n",
       "      <th>Ticket</th>\n",
       "      <th>Fare</th>\n",
       "      <th>Embarked</th>\n",
       "    </tr>\n",
       "  </thead>\n",
       "  <tbody>\n",
       "    <tr>\n",
       "      <th>0</th>\n",
       "      <td>1</td>\n",
       "      <td>0</td>\n",
       "      <td>3</td>\n",
       "      <td>108</td>\n",
       "      <td>1</td>\n",
       "      <td>22.0</td>\n",
       "      <td>1</td>\n",
       "      <td>0</td>\n",
       "      <td>523</td>\n",
       "      <td>7.2500</td>\n",
       "      <td>2</td>\n",
       "    </tr>\n",
       "    <tr>\n",
       "      <th>1</th>\n",
       "      <td>2</td>\n",
       "      <td>1</td>\n",
       "      <td>1</td>\n",
       "      <td>190</td>\n",
       "      <td>0</td>\n",
       "      <td>38.0</td>\n",
       "      <td>1</td>\n",
       "      <td>0</td>\n",
       "      <td>596</td>\n",
       "      <td>71.2833</td>\n",
       "      <td>0</td>\n",
       "    </tr>\n",
       "    <tr>\n",
       "      <th>2</th>\n",
       "      <td>3</td>\n",
       "      <td>1</td>\n",
       "      <td>3</td>\n",
       "      <td>353</td>\n",
       "      <td>0</td>\n",
       "      <td>26.0</td>\n",
       "      <td>0</td>\n",
       "      <td>0</td>\n",
       "      <td>669</td>\n",
       "      <td>7.9250</td>\n",
       "      <td>2</td>\n",
       "    </tr>\n",
       "    <tr>\n",
       "      <th>3</th>\n",
       "      <td>4</td>\n",
       "      <td>1</td>\n",
       "      <td>1</td>\n",
       "      <td>272</td>\n",
       "      <td>0</td>\n",
       "      <td>35.0</td>\n",
       "      <td>1</td>\n",
       "      <td>0</td>\n",
       "      <td>49</td>\n",
       "      <td>53.1000</td>\n",
       "      <td>2</td>\n",
       "    </tr>\n",
       "    <tr>\n",
       "      <th>4</th>\n",
       "      <td>5</td>\n",
       "      <td>0</td>\n",
       "      <td>3</td>\n",
       "      <td>15</td>\n",
       "      <td>1</td>\n",
       "      <td>35.0</td>\n",
       "      <td>0</td>\n",
       "      <td>0</td>\n",
       "      <td>472</td>\n",
       "      <td>8.0500</td>\n",
       "      <td>2</td>\n",
       "    </tr>\n",
       "  </tbody>\n",
       "</table>\n",
       "</div>"
      ],
      "text/plain": [
       "   PassengerId  Survived  Pclass  Name  Sex   Age  SibSp  Parch  Ticket  \\\n",
       "0            1         0       3   108    1  22.0      1      0     523   \n",
       "1            2         1       1   190    0  38.0      1      0     596   \n",
       "2            3         1       3   353    0  26.0      0      0     669   \n",
       "3            4         1       1   272    0  35.0      1      0      49   \n",
       "4            5         0       3    15    1  35.0      0      0     472   \n",
       "\n",
       "      Fare  Embarked  \n",
       "0   7.2500         2  \n",
       "1  71.2833         0  \n",
       "2   7.9250         2  \n",
       "3  53.1000         2  \n",
       "4   8.0500         2  "
      ]
     },
     "execution_count": 52,
     "metadata": {},
     "output_type": "execute_result"
    }
   ],
   "source": [
    "df_train.head()"
   ]
  },
  {
   "cell_type": "code",
   "execution_count": 53,
   "metadata": {},
   "outputs": [],
   "source": [
    "# split the data into x and y\n",
    "from sklearn.model_selection import train_test_split\n",
    "X = df_train.drop('Survived', axis=1)\n",
    "y = df_train['Survived']\n",
    "\n",
    "# split the data into train test split\n",
    "X_train, X_test, y_train, y_test = train_test_split(\n",
    "    X, y, test_size=0.2, random_state=42)"
   ]
  },
  {
   "cell_type": "markdown",
   "metadata": {},
   "source": [
    "# `Building Neural Network`\n"
   ]
  },
  {
   "cell_type": "code",
   "execution_count": 55,
   "metadata": {},
   "outputs": [
    {
     "name": "stdout",
     "output_type": "stream",
     "text": [
      "Epoch 1/100\n",
      "23/23 [==============================] - 3s 31ms/step - loss: 9.6767 - accuracy: 0.5857 - val_loss: 4.2002 - val_accuracy: 0.5140\n",
      "Epoch 2/100\n",
      "23/23 [==============================] - 0s 10ms/step - loss: 3.4665 - accuracy: 0.5379 - val_loss: 2.8568 - val_accuracy: 0.6257\n",
      "Epoch 3/100\n",
      "23/23 [==============================] - 0s 10ms/step - loss: 2.1711 - accuracy: 0.5913 - val_loss: 1.3714 - val_accuracy: 0.6313\n",
      "Epoch 4/100\n",
      "23/23 [==============================] - 0s 13ms/step - loss: 1.3858 - accuracy: 0.6278 - val_loss: 1.2494 - val_accuracy: 0.6089\n",
      "Epoch 5/100\n",
      "23/23 [==============================] - 0s 12ms/step - loss: 1.2076 - accuracy: 0.6264 - val_loss: 1.3843 - val_accuracy: 0.5363\n",
      "Epoch 6/100\n",
      "23/23 [==============================] - 0s 12ms/step - loss: 1.2678 - accuracy: 0.6053 - val_loss: 1.0310 - val_accuracy: 0.6313\n",
      "Epoch 7/100\n",
      "23/23 [==============================] - 0s 11ms/step - loss: 1.0805 - accuracy: 0.6362 - val_loss: 1.3099 - val_accuracy: 0.5810\n",
      "Epoch 8/100\n",
      "23/23 [==============================] - 0s 13ms/step - loss: 1.0036 - accuracy: 0.6404 - val_loss: 1.0567 - val_accuracy: 0.6648\n",
      "Epoch 9/100\n",
      "23/23 [==============================] - 0s 12ms/step - loss: 1.1651 - accuracy: 0.6601 - val_loss: 1.5301 - val_accuracy: 0.5084\n",
      "Epoch 10/100\n",
      "23/23 [==============================] - 0s 13ms/step - loss: 1.2142 - accuracy: 0.6334 - val_loss: 1.0149 - val_accuracy: 0.5698\n",
      "Epoch 11/100\n",
      "23/23 [==============================] - 0s 13ms/step - loss: 0.9069 - accuracy: 0.6517 - val_loss: 1.0518 - val_accuracy: 0.5642\n",
      "Epoch 12/100\n",
      "23/23 [==============================] - 0s 9ms/step - loss: 0.9072 - accuracy: 0.6643 - val_loss: 0.9670 - val_accuracy: 0.6704\n",
      "Epoch 13/100\n",
      "23/23 [==============================] - 0s 9ms/step - loss: 1.1410 - accuracy: 0.6320 - val_loss: 1.0365 - val_accuracy: 0.6480\n",
      "Epoch 14/100\n",
      "23/23 [==============================] - 0s 9ms/step - loss: 0.7670 - accuracy: 0.6868 - val_loss: 0.8481 - val_accuracy: 0.6369\n",
      "Epoch 15/100\n",
      "23/23 [==============================] - 0s 8ms/step - loss: 0.9336 - accuracy: 0.6475 - val_loss: 1.0827 - val_accuracy: 0.6760\n",
      "Epoch 16/100\n",
      "23/23 [==============================] - 0s 8ms/step - loss: 0.7710 - accuracy: 0.6728 - val_loss: 0.9852 - val_accuracy: 0.6816\n",
      "Epoch 17/100\n",
      "23/23 [==============================] - 0s 10ms/step - loss: 0.8075 - accuracy: 0.6629 - val_loss: 1.1818 - val_accuracy: 0.6480\n",
      "Epoch 18/100\n",
      "23/23 [==============================] - 0s 10ms/step - loss: 0.8799 - accuracy: 0.6461 - val_loss: 0.9644 - val_accuracy: 0.6816\n",
      "Epoch 19/100\n",
      "23/23 [==============================] - 0s 8ms/step - loss: 1.0698 - accuracy: 0.6320 - val_loss: 0.8693 - val_accuracy: 0.6592\n",
      "Epoch 20/100\n",
      "23/23 [==============================] - 0s 8ms/step - loss: 0.8701 - accuracy: 0.6742 - val_loss: 1.0497 - val_accuracy: 0.6816\n",
      "Epoch 21/100\n",
      "23/23 [==============================] - 0s 8ms/step - loss: 0.8913 - accuracy: 0.6713 - val_loss: 0.8832 - val_accuracy: 0.6201\n",
      "Epoch 22/100\n",
      "23/23 [==============================] - 0s 8ms/step - loss: 0.6667 - accuracy: 0.7051 - val_loss: 0.7143 - val_accuracy: 0.6257\n",
      "Epoch 23/100\n",
      "23/23 [==============================] - 0s 8ms/step - loss: 0.6708 - accuracy: 0.7233 - val_loss: 0.7753 - val_accuracy: 0.6480\n",
      "Epoch 24/100\n",
      "23/23 [==============================] - 0s 8ms/step - loss: 0.6156 - accuracy: 0.7079 - val_loss: 0.9459 - val_accuracy: 0.6089\n",
      "Epoch 25/100\n",
      "23/23 [==============================] - 0s 8ms/step - loss: 0.7418 - accuracy: 0.6770 - val_loss: 0.8587 - val_accuracy: 0.6480\n",
      "Epoch 26/100\n",
      "23/23 [==============================] - 0s 9ms/step - loss: 0.7233 - accuracy: 0.6896 - val_loss: 0.8252 - val_accuracy: 0.6313\n",
      "Epoch 27/100\n",
      "23/23 [==============================] - 0s 8ms/step - loss: 0.8084 - accuracy: 0.6770 - val_loss: 0.9146 - val_accuracy: 0.6257\n",
      "Epoch 28/100\n",
      "23/23 [==============================] - 0s 8ms/step - loss: 0.8357 - accuracy: 0.6756 - val_loss: 1.0038 - val_accuracy: 0.5810\n",
      "Epoch 29/100\n",
      "23/23 [==============================] - 0s 8ms/step - loss: 0.7698 - accuracy: 0.6756 - val_loss: 0.8248 - val_accuracy: 0.6257\n",
      "Epoch 30/100\n",
      "23/23 [==============================] - 0s 15ms/step - loss: 0.7294 - accuracy: 0.7079 - val_loss: 0.8374 - val_accuracy: 0.6704\n",
      "Epoch 31/100\n",
      "23/23 [==============================] - 0s 9ms/step - loss: 0.7285 - accuracy: 0.6784 - val_loss: 0.7258 - val_accuracy: 0.6257\n",
      "Epoch 32/100\n",
      "23/23 [==============================] - 0s 9ms/step - loss: 0.6520 - accuracy: 0.7107 - val_loss: 1.4459 - val_accuracy: 0.5084\n",
      "Epoch 33/100\n",
      "23/23 [==============================] - 0s 8ms/step - loss: 0.9144 - accuracy: 0.6517 - val_loss: 0.7992 - val_accuracy: 0.6592\n",
      "Epoch 34/100\n",
      "23/23 [==============================] - 0s 8ms/step - loss: 0.6778 - accuracy: 0.7051 - val_loss: 0.9654 - val_accuracy: 0.5866\n",
      "Epoch 35/100\n",
      "23/23 [==============================] - 0s 7ms/step - loss: 0.7306 - accuracy: 0.6896 - val_loss: 0.7745 - val_accuracy: 0.6089\n",
      "Epoch 36/100\n",
      "23/23 [==============================] - 0s 8ms/step - loss: 0.6859 - accuracy: 0.7177 - val_loss: 1.1067 - val_accuracy: 0.5698\n",
      "Epoch 37/100\n",
      "23/23 [==============================] - 0s 7ms/step - loss: 0.6437 - accuracy: 0.7233 - val_loss: 0.7987 - val_accuracy: 0.6927\n",
      "6/6 [==============================] - 0s 3ms/step - loss: 0.7987 - accuracy: 0.6927\n",
      "loss0.7987058162689209,accuracy0.6927374005317688\n"
     ]
    },
    {
     "data": {
      "image/png": "[encoded data removed]",
      "text/plain": [
       "<Figure size 640x480 with 1 Axes>"
      ]
     },
     "metadata": {},
     "output_type": "display_data"
    },
    {
     "data": {
      "image/png": "[encoded data removed]",
      "text/plain": [
       "<Figure size 640x480 with 1 Axes>"
      ]
     },
     "metadata": {},
     "output_type": "display_data"
    }
   ],
   "source": [
    "# create a model\n",
    "import tensorflow as tf\n",
    "# import callback function\n",
    "from tensorflow.keras.callbacks import EarlyStopping\n",
    "# creating  a model\n",
    "model = tf.keras.Sequential([\n",
    "    tf.keras.layers.Dense(64, input_shape=(\n",
    "        X_train.shape[1],), activation='relu'),\n",
    "    tf.keras.layers.Dense(32, activation='relu'),\n",
    "    tf.keras.layers.Dense(16, activation='relu'),\n",
    "    tf.keras.layers.Dense(1, activation='sigmoid')\n",
    "])\n",
    "\n",
    "# compile the model\n",
    "model.compile(\n",
    "    optimizer='adam',\n",
    "    loss='binary_crossentropy',\n",
    "    metrics=['accuracy']\n",
    ")\n",
    "# define the callback function\n",
    "early_stop = EarlyStopping(monitor='val_loss', patience=15)\n",
    "# train the model\n",
    "history = model.fit(X_train, y_train, epochs=100, batch_size=32,\n",
    "                    validation_data=(X_test, y_test), callbacks=[early_stop])\n",
    "# evaluate the model\n",
    "loss, accuracy = model.evaluate(X_test, y_test)\n",
    "print(f'loss{loss},accuracy{accuracy}')\n",
    "\n",
    "# plot the model\n",
    "plt.plot(history.history['accuracy'])\n",
    "plt.plot(history.history['val_accuracy'])\n",
    "plt.title('model accuracy')\n",
    "plt.ylabel('accuracy')\n",
    "plt.xlabel('epoch')\n",
    "plt.legend(['train', 'test'], loc='upper left')\n",
    "plt.show()\n",
    "\n",
    "# now for loss\n",
    "plt.plot(history.history['loss'])\n",
    "plt.plot(history.history['val_loss'])\n",
    "plt.title('model loss')\n",
    "plt.ylabel('loss')\n",
    "plt.xlabel('epoch')\n",
    "plt.legend(['train', 'test'], loc='upper left')\n",
    "plt.show()"
   ]
  },
  {
   "cell_type": "markdown",
   "metadata": {},
   "source": [
    "# `now doing in machine learning with best model`\n"
   ]
  },
  {
   "cell_type": "code",
   "execution_count": 59,
   "metadata": {},
   "outputs": [],
   "source": [
    "\n",
    "from sklearn.model_selection import train_test_split, cross_val_score, GridSearchCV\n",
    "from sklearn.pipeline import Pipeline\n",
    "from sklearn.impute import SimpleImputer\n",
    "from sklearn.preprocessing import OneHotEncoder\n",
    "from sklearn.ensemble import RandomForestClassifier, GradientBoostingClassifier\n",
    "from sklearn.metrics import accuracy_score\n",
    "from xgboost import XGBClassifier\n",
    "from sklearn.ensemble import AdaBoostClassifier"
   ]
  },
  {
   "cell_type": "code",
   "execution_count": 60,
   "metadata": {},
   "outputs": [
    {
     "name": "stdout",
     "output_type": "stream",
     "text": [
      "Model: Random Forest\n",
      "Cross-validation Accuracy: 0.806136117403723\n",
      "Test Accuracy: 0.7988826815642458\n",
      "\n",
      "Model: Gradient Boosting\n",
      "Cross-validation Accuracy: 0.8005417118093174\n",
      "Test Accuracy: 0.8044692737430168\n",
      "\n",
      "Model: XGBoost\n",
      "Cross-validation Accuracy: 0.7893529006205062\n",
      "Test Accuracy: 0.7821229050279329\n",
      "\n",
      "Model: AdaBoost\n",
      "Cross-validation Accuracy: 0.7977937555402345\n",
      "Test Accuracy: 0.7877094972067039\n",
      "\n",
      "Best Model: Pipeline(steps=[('imputer', SimpleImputer(strategy='most_frequent')),\n",
      "                ('encoder', OneHotEncoder(handle_unknown='ignore')),\n",
      "                ('model', GradientBoostingClassifier(random_state=42))])\n"
     ]
    }
   ],
   "source": [
    "# Create a list of models to evaluate\n",
    "models = [\n",
    "    ('Random Forest', RandomForestClassifier(random_state=42)),\n",
    "    ('Gradient Boosting', GradientBoostingClassifier(random_state=42)),\n",
    "    ('XGBoost', XGBClassifier(random_state=42)),\n",
    "    ('AdaBoost', AdaBoostClassifier(random_state=42))\n",
    "]\n",
    "\n",
    "best_model = None\n",
    "best_accuracy = 0.0\n",
    "\n",
    "# Iterate over the models and evaluate their performance\n",
    "for name, model in models:\n",
    "    # Create a pipeline for each model\n",
    "    pipeline = Pipeline([\n",
    "        ('imputer', SimpleImputer(strategy='most_frequent')),\n",
    "        ('encoder', OneHotEncoder(handle_unknown='ignore')),\n",
    "        ('model', model)\n",
    "    ])\n",
    "\n",
    "    # Perform cross-validation\n",
    "    scores = cross_val_score(pipeline, X_train, y_train, cv=5)\n",
    "\n",
    "    # Calculate mean accuracy\n",
    "    mean_accuracy = scores.mean()\n",
    "\n",
    "    # Fit the pipeline on the training data\n",
    "    pipeline.fit(X_train, y_train)\n",
    "\n",
    "    # Make predictions on the test data\n",
    "    y_pred = pipeline.predict(X_test)\n",
    "\n",
    "    # Calculate accuracy score\n",
    "    accuracy = accuracy_score(y_test, y_pred)\n",
    "    # Print the performance metrics\n",
    "    print(\"Model:\", name)\n",
    "    print(\"Cross-validation Accuracy:\", mean_accuracy)\n",
    "    print(\"Test Accuracy:\", accuracy)\n",
    "    print()\n",
    "\n",
    "    # Check if the current model has the best accuracy\n",
    "    if accuracy > best_accuracy:\n",
    "        best_accuracy = accuracy\n",
    "        best_model = pipeline\n",
    "\n",
    "# Retrieve the best model\n",
    "print(\"Best Model:\", best_model)"
   ]
  },
  {
   "cell_type": "code",
   "execution_count": null,
   "metadata": {},
   "outputs": [],
   "source": []
  }
 ],
 "metadata": {
  "kernelspec": {
   "display_name": "tf_env",
   "language": "python",
   "name": "python3"
  },
  "language_info": {
   "codemirror_mode": {
    "name": "ipython",
    "version": 3
   },
   "file_extension": ".py",
   "mimetype": "text/x-python",
   "name": "python",
   "nbconvert_exporter": "python",
   "pygments_lexer": "ipython3",
   "version": "3.10.13"
  }
 },
 "nbformat": 4,
 "nbformat_minor": 2
}
